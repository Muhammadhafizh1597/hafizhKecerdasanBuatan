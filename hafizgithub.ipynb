{
 "cells": [
  {
   "cell_type": "code",
   "execution_count": 1,
   "id": "1075cb55-21bb-43a1-bc1d-92a225bcb4df",
   "metadata": {},
   "outputs": [
    {
     "name": "stdout",
     "output_type": "stream",
     "text": [
      "[{'name': 'Company 3'}, {'name': 'Company 2'}, {'name': 'Company 1'}]\n"
     ]
    }
   ],
   "source": [
    "# Data\n",
    "\n",
    "company_detail_list = [\n",
    "      {\n",
    "          'name': 'Company 1',\n",
    "          'domain': 'Retail',\n",
    "          'country': 'United States'\n",
    "      },\n",
    "      {\n",
    "          'name': 'Company 2',\n",
    "          'domain': 'Technology',\n",
    "          'country': 'United Kingdom'\n",
    "      },\n",
    "      {\n",
    "          'name': 'Company 3',\n",
    "          'domain': 'Healthcare',\n",
    "          'country': 'United States'\n",
    "      }\n",
    "  ]\n",
    "\n",
    "employee_detail_list = [\n",
    "     {\n",
    "          'name': 'EMP-0001',\n",
    "          'first_name': 'John',\n",
    "          'last_name': 'Doe',\n",
    "          'full_name': 'John Doe',\n",
    "          'company': 'Company 1',\n",
    "          'nationality': 'Australia'\n",
    "      },\n",
    "      {\n",
    "          'name': 'EMP-0002',\n",
    "          'first_name': 'Tom',\n",
    "          'last_name': 'Smith',\n",
    "          'full_name': 'Tom Smith',\n",
    "          'company': 'Company 2',\n",
    "          'nationality': 'United States'\n",
    "      },\n",
    "      {\n",
    "          'name': 'EMP-0003',\n",
    "          'first_name': 'Andrew',\n",
    "          'last_name': 'Sebastian',\n",
    "          'full_name': 'Andrew Sebastian',\n",
    "          'company': 'Company 3',\n",
    "          'nationality': 'United States'\n",
    "      },\n",
    "      {\n",
    "          'name': 'EMP-0005',\n",
    "          'first_name': 'Ying Han',\n",
    "          'last_name': 'Tan',\n",
    "          'full_name': 'Ying Han Tan',\n",
    "          'company': 'Company 1',\n",
    "          'nationality': 'Australia'\n",
    "      },\n",
    "      {\n",
    "          'name': 'EMP-0015',\n",
    "          'first_name': 'Kenneth',\n",
    "          'last_name': 'Ng',\n",
    "          'full_name': 'Kenneth Ng',\n",
    "          'company': 'Company 3',\n",
    "          'nationality': 'United States'\n",
    "      },\n",
    "      {\n",
    "          'name': 'EMP-0018',\n",
    "          'first_name': 'Rubby',\n",
    "          'last_name': 'Lee',\n",
    "          'full_name': 'Rubby Lee',\n",
    "          'company': 'Company 2',\n",
    "          'nationality': 'Hong Kong'\n",
    "      },\n",
    "     {\n",
    "          'name': 'EMP-0017',\n",
    "          'first_name': 'Robert',\n",
    "          'last_name': 'White',\n",
    "          'full_name': 'Robert White',\n",
    "          'company': 'Company 1',\n",
    "          'nationality': 'United Kingdom'\n",
    "      }\n",
    "  ]\n",
    "def get_sorted_companies(company_detail_list):\n",
    "    return [{\"name\": company[\"name\"]} for company in sorted(company_detail_list, key=lambda x: x[\"name\"], reverse=True)]\n",
    "\n",
    "# Example usage:\n",
    "print(get_sorted_companies(company_detail_list))\n"
   ]
  },
  {
   "cell_type": "code",
   "execution_count": 2,
   "id": "1115a87b-9146-4e4a-b900-754205011b37",
   "metadata": {},
   "outputs": [
    {
     "name": "stdout",
     "output_type": "stream",
     "text": [
      "Company 1: Retail (United States)\n",
      "Company 2: Technology (United Kingdom)\n",
      "Company 3: Healthcare (United States)\n"
     ]
    }
   ],
   "source": [
    "def print_company_domains(company_detail_list):\n",
    "    for company in company_detail_list:\n",
    "        print(f\"{company['name']}: {company['domain']} ({company['country']})\")\n",
    "\n",
    "# Example usage:\n",
    "print_company_domains(company_detail_list)\n"
   ]
  },
  {
   "cell_type": "code",
   "execution_count": 3,
   "id": "8dbbac7f-73af-4e61-87c7-178e25c8f23e",
   "metadata": {},
   "outputs": [
    {
     "name": "stdout",
     "output_type": "stream",
     "text": [
      "{'Retail': ['John Doe', 'Ying Han Tan', 'Robert White'], 'Technology': ['Tom Smith', 'Rubby Lee'], 'Healthcare': ['Andrew Sebastian', 'Kenneth Ng']}\n"
     ]
    }
   ],
   "source": [
    "def group_employees_by_domain(company_detail_list, employee_detail_list):\n",
    "    domain_map = {company[\"name\"]: company[\"domain\"] for company in company_detail_list}\n",
    "    grouped_employees = {}\n",
    "\n",
    "    for emp in employee_detail_list:\n",
    "        domain = domain_map[emp[\"company\"]]\n",
    "        if domain not in grouped_employees:\n",
    "            grouped_employees[domain] = []\n",
    "        grouped_employees[domain].append(emp[\"full_name\"])\n",
    "\n",
    "    return grouped_employees\n",
    "\n",
    "# Example usage:\n",
    "print(group_employees_by_domain(company_detail_list, employee_detail_list))\n"
   ]
  },
  {
   "cell_type": "code",
   "execution_count": 4,
   "id": "37d076db-640b-4d0d-bceb-5b81342cb858",
   "metadata": {},
   "outputs": [
    {
     "name": "stdout",
     "output_type": "stream",
     "text": [
      "[{'full_name': 'John Doe', 'company': 'Company 1', 'country': 'United States'}, {'full_name': 'Tom Smith', 'company': 'Company 2', 'country': 'United Kingdom'}, {'full_name': 'Andrew Sebastian', 'company': 'Company 3', 'country': 'United States'}, {'full_name': 'Ying Han Tan', 'company': 'Company 1', 'country': 'United States'}, {'full_name': 'Kenneth Ng', 'company': 'Company 3', 'country': 'United States'}, {'full_name': 'Rubby Lee', 'company': 'Company 2', 'country': 'United Kingdom'}, {'full_name': 'Robert White', 'company': 'Company 1', 'country': 'United States'}]\n"
     ]
    }
   ],
   "source": [
    "def get_employees_with_company_country(company_detail_list, employee_detail_list):\n",
    "    company_country_map = {company[\"name\"]: company[\"country\"] for company in company_detail_list}\n",
    "    \n",
    "    result = []\n",
    "    for emp in employee_detail_list:\n",
    "        result.append({\n",
    "            \"full_name\": emp[\"full_name\"],\n",
    "            \"company\": emp[\"company\"],\n",
    "            \"country\": company_country_map[emp[\"company\"]]\n",
    "        })\n",
    "    \n",
    "    return result\n",
    "\n",
    "# Example usage:\n",
    "print(get_employees_with_company_country(company_detail_list, employee_detail_list))\n"
   ]
  },
  {
   "cell_type": "code",
   "execution_count": 5,
   "id": "0538ba59-e785-4c92-8b6c-8137b0dee7f9",
   "metadata": {},
   "outputs": [
    {
     "name": "stdout",
     "output_type": "stream",
     "text": [
      "[{'company': 'Company 1', 'employee_nationality': {'Australia': 2, 'United Kingdom': 1}}, {'company': 'Company 2', 'employee_nationality': {'United States': 1, 'Hong Kong': 1}}, {'company': 'Company 3', 'employee_nationality': {'United States': 2}}]\n"
     ]
    }
   ],
   "source": [
    "from collections import defaultdict\n",
    "\n",
    "def get_employee_nationality_count(employee_detail_list):\n",
    "    company_nationality_count = defaultdict(lambda: defaultdict(int))\n",
    "\n",
    "    for emp in employee_detail_list:\n",
    "        company_nationality_count[emp[\"company\"]][emp[\"nationality\"]] += 1\n",
    "\n",
    "    result = [\n",
    "        {\"company\": company, \"employee_nationality\": dict(nationalities)}\n",
    "        for company, nationalities in company_nationality_count.items()\n",
    "    ]\n",
    "\n",
    "    return result\n",
    "\n",
    "# Example usage:\n",
    "print(get_employee_nationality_count(employee_detail_list))\n"
   ]
  },
  {
   "cell_type": "code",
   "execution_count": null,
   "id": "8da41033-ec35-4739-90d4-1ab6a363e970",
   "metadata": {},
   "outputs": [],
   "source": []
  }
 ],
 "metadata": {
  "kernelspec": {
   "display_name": "Python 3 (ipykernel)",
   "language": "python",
   "name": "python3"
  },
  "language_info": {
   "codemirror_mode": {
    "name": "ipython",
    "version": 3
   },
   "file_extension": ".py",
   "mimetype": "text/x-python",
   "name": "python",
   "nbconvert_exporter": "python",
   "pygments_lexer": "ipython3",
   "version": "3.12.7"
  }
 },
 "nbformat": 4,
 "nbformat_minor": 5
}
